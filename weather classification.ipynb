{
  "nbformat": 4,
  "nbformat_minor": 0,
  "metadata": {
    "colab": {
      "provenance": []
    },
    "kernelspec": {
      "name": "python3",
      "display_name": "Python 3"
    },
    "language_info": {
      "name": "python"
    }
  },
  "cells": [
    {
      "cell_type": "code",
      "execution_count": null,
      "metadata": {
        "colab": {
          "base_uri": "https://localhost:8080/"
        },
        "id": "z6jMv8WQO4TO",
        "outputId": "700b1f16-2d2c-419f-c7ae-869d6ad03cef"
      },
      "outputs": [
        {
          "output_type": "stream",
          "name": "stdout",
          "text": [
            "Drive already mounted at /content/drive; to attempt to forcibly remount, call drive.mount(\"/content/drive\", force_remount=True).\n"
          ]
        }
      ],
      "source": [
        "from google.colab import drive\n",
        "drive.mount('/content/drive')\n",
        "\n",
        "train_dir = '/content/drive/My Drive/weather classification/train'\n",
        "val_dir = '/content/drive/My Drive/weather classification/validation'\n",
        "test_dir = '/content/drive/My Drive/weather classification/test'"
      ]
    },
    {
      "cell_type": "code",
      "source": [
        "# Task 1\n",
        "import tensorflow as tf\n",
        "from tensorflow.keras import layers, models\n",
        "from tensorflow.keras.preprocessing.image import ImageDataGenerator\n",
        "\n",
        "\n",
        "# Load data\n",
        "train_datagen = ImageDataGenerator(rescale=1./255)\n",
        "val_datagen = ImageDataGenerator(rescale=1./255)\n",
        "test_datagen = ImageDataGenerator(rescale=1./255)\n",
        "\n",
        "# Flow training images in batches\n",
        "train_generator = train_datagen.flow_from_directory(\n",
        "    train_dir,\n",
        "    target_size=(128, 128),\n",
        "    batch_size=32,\n",
        "    class_mode='sparse'\n",
        ")\n",
        "\n",
        "# Flow validation images in batches\n",
        "val_generator = val_datagen.flow_from_directory(\n",
        "    val_dir,\n",
        "    target_size=(128, 128),\n",
        "    batch_size=32,\n",
        "    class_mode='sparse'\n",
        ")\n",
        "\n",
        "# Flow test images in batches\n",
        "test_generator = test_datagen.flow_from_directory(\n",
        "    test_dir,\n",
        "    target_size=(128, 128),\n",
        "    batch_size=32,\n",
        "    class_mode='sparse'\n",
        ")\n",
        "\n",
        "# Define the CNN model\n",
        "model = models.Sequential([\n",
        "    layers.Conv2D(32, (3, 3), activation='relu', input_shape=(128, 128, 3)),\n",
        "    layers.MaxPooling2D((2, 2)),\n",
        "    layers.Conv2D(64, (3, 3), activation='relu'),\n",
        "    layers.MaxPooling2D((2, 2)),\n",
        "    layers.Conv2D(128, (3, 3), activation='relu'),\n",
        "    layers.MaxPooling2D((2, 2)),\n",
        "    layers.Flatten(),\n",
        "    layers.Dense(128, activation='relu'),\n",
        "    layers.Dense(4, activation='softmax')\n",
        "])\n",
        "\n",
        "# Compile the model\n",
        "model.compile(optimizer='adam',\n",
        "              loss='sparse_categorical_crossentropy',\n",
        "              metrics=['accuracy'])\n",
        "\n",
        "# Train the model\n",
        "history = model.fit(train_generator, epochs=10, validation_data=val_generator)"
      ],
      "metadata": {
        "colab": {
          "base_uri": "https://localhost:8080/",
          "height": 609
        },
        "id": "pqS8q9X9Pn0U",
        "outputId": "046b3de0-5294-4206-849e-76decbd8735a"
      },
      "execution_count": null,
      "outputs": [
        {
          "output_type": "stream",
          "name": "stdout",
          "text": [
            "Found 400 images belonging to 4 classes.\n",
            "Found 200 images belonging to 4 classes.\n",
            "Found 525 images belonging to 4 classes.\n",
            "Epoch 1/10\n",
            "13/13 [==============================] - 131s 10s/step - loss: 1.1925 - accuracy: 0.4150 - val_loss: 0.7984 - val_accuracy: 0.7200\n",
            "Epoch 2/10\n",
            "13/13 [==============================] - 20s 1s/step - loss: 0.6580 - accuracy: 0.7450 - val_loss: 0.8463 - val_accuracy: 0.6950\n",
            "Epoch 3/10\n",
            "13/13 [==============================] - 20s 1s/step - loss: 0.6035 - accuracy: 0.7875 - val_loss: 0.5248 - val_accuracy: 0.7800\n",
            "Epoch 4/10\n",
            "13/13 [==============================] - 23s 2s/step - loss: 0.3755 - accuracy: 0.8750 - val_loss: 0.6849 - val_accuracy: 0.7850\n",
            "Epoch 5/10\n",
            "13/13 [==============================] - 22s 2s/step - loss: 0.3194 - accuracy: 0.8875 - val_loss: 0.7741 - val_accuracy: 0.7500\n",
            "Epoch 6/10\n",
            "13/13 [==============================] - 23s 2s/step - loss: 0.2323 - accuracy: 0.9300 - val_loss: 0.4741 - val_accuracy: 0.8150\n",
            "Epoch 7/10\n",
            "13/13 [==============================] - 21s 2s/step - loss: 0.1848 - accuracy: 0.9450 - val_loss: 0.6847 - val_accuracy: 0.7800\n",
            "Epoch 8/10\n",
            "13/13 [==============================] - 22s 2s/step - loss: 0.1980 - accuracy: 0.9225 - val_loss: 0.8083 - val_accuracy: 0.8050\n",
            "Epoch 9/10\n",
            "13/13 [==============================] - 22s 2s/step - loss: 0.1254 - accuracy: 0.9525 - val_loss: 0.4181 - val_accuracy: 0.8550\n",
            "Epoch 10/10\n",
            "13/13 [==============================] - 22s 2s/step - loss: 0.1385 - accuracy: 0.9550 - val_loss: 0.5803 - val_accuracy: 0.8100\n"
          ]
        },
        {
          "output_type": "error",
          "ename": "NameError",
          "evalue": "name 'test_data' is not defined",
          "traceback": [
            "\u001b[0;31m---------------------------------------------------------------------------\u001b[0m",
            "\u001b[0;31mNameError\u001b[0m                                 Traceback (most recent call last)",
            "\u001b[0;32m<ipython-input-7-79e9ea4b2a86>\u001b[0m in \u001b[0;36m<cell line: 58>\u001b[0;34m()\u001b[0m\n\u001b[1;32m     56\u001b[0m \u001b[0;34m\u001b[0m\u001b[0m\n\u001b[1;32m     57\u001b[0m \u001b[0;31m# Evaluate the model on test set\u001b[0m\u001b[0;34m\u001b[0m\u001b[0;34m\u001b[0m\u001b[0m\n\u001b[0;32m---> 58\u001b[0;31m \u001b[0mtest_loss\u001b[0m\u001b[0;34m,\u001b[0m \u001b[0mtest_acc\u001b[0m \u001b[0;34m=\u001b[0m \u001b[0mmodel\u001b[0m\u001b[0;34m.\u001b[0m\u001b[0mevaluate\u001b[0m\u001b[0;34m(\u001b[0m\u001b[0mtest_data\u001b[0m\u001b[0;34m,\u001b[0m \u001b[0mtest_labels\u001b[0m\u001b[0;34m)\u001b[0m\u001b[0;34m\u001b[0m\u001b[0;34m\u001b[0m\u001b[0m\n\u001b[0m\u001b[1;32m     59\u001b[0m \u001b[0mprint\u001b[0m\u001b[0;34m(\u001b[0m\u001b[0;34m'Test accuracy:'\u001b[0m\u001b[0;34m,\u001b[0m \u001b[0mtest_acc\u001b[0m\u001b[0;34m)\u001b[0m\u001b[0;34m\u001b[0m\u001b[0;34m\u001b[0m\u001b[0m\n",
            "\u001b[0;31mNameError\u001b[0m: name 'test_data' is not defined"
          ]
        }
      ]
    },
    {
      "cell_type": "code",
      "source": [
        "# Evaluate the model on test set\n",
        "test_loss, test_acc = model.evaluate(test_generator)\n",
        "print('Test accuracy:', test_acc)"
      ],
      "metadata": {
        "colab": {
          "base_uri": "https://localhost:8080/"
        },
        "id": "Yw1YFUviSQ-t",
        "outputId": "2535b377-4e4d-4329-9470-55213d67540b"
      },
      "execution_count": null,
      "outputs": [
        {
          "output_type": "stream",
          "name": "stdout",
          "text": [
            " 5/17 [=======>......................] - ETA: 1:41 - loss: 0.5356 - accuracy: 0.8438"
          ]
        }
      ]
    },
    {
      "cell_type": "code",
      "source": [
        "# Task 2\n",
        "\n",
        "# Data Augmentation\n",
        "train_datagen = ImageDataGenerator(\n",
        "    rescale=1./255,\n",
        "    rotation_range=40,\n",
        "    width_shift_range=0.2,\n",
        "    height_shift_range=0.2,\n",
        "    shear_range=0.2,\n",
        "    zoom_range=0.2,\n",
        "    horizontal_flip=True,\n",
        "    fill_mode='nearest'\n",
        ")\n",
        "\n",
        "# No Augmentation for validation and test data\n",
        "val_datagen = ImageDataGenerator(rescale=1./255)\n",
        "test_datagen = ImageDataGenerator(rescale=1./255)\n",
        "\n",
        "# Flow training images in batches\n",
        "train_generator = train_datagen.flow_from_directory(\n",
        "    train_dir,\n",
        "    target_size=(128, 128),\n",
        "    batch_size=32,\n",
        "    class_mode='sparse'\n",
        ")\n",
        "\n",
        "# Flow validation images in batches\n",
        "val_generator = val_datagen.flow_from_directory(\n",
        "    val_dir,\n",
        "    target_size=(128, 128),\n",
        "    batch_size=32,\n",
        "    class_mode='sparse'\n",
        ")\n",
        "\n",
        "# Flow test images in batches\n",
        "test_generator = test_datagen.flow_from_directory(\n",
        "    test_dir,\n",
        "    target_size=(128, 128),\n",
        "    batch_size=32,\n",
        "    class_mode='sparse'\n",
        ")\n",
        "\n",
        "# Train the model with augmented data\n",
        "history_augmented = model.fit(\n",
        "    train_generator,\n",
        "    steps_per_epoch=train_generator.n // 32,\n",
        "    epochs=10,\n",
        "    validation_data=val_generator,\n",
        "    validation_steps=val_generator.n // 32\n",
        ")\n",
        "\n",
        "# Evaluate the model on test set\n",
        "test_loss_augmented, test_acc_augmented = model.evaluate(test_generator)\n",
        "print('Test accuracy with augmentation:', test_acc_augmented)"
      ],
      "metadata": {
        "id": "HKyNWOkXPpuy"
      },
      "execution_count": null,
      "outputs": []
    },
    {
      "cell_type": "code",
      "source": [
        "# Task 3\n",
        "\n",
        "from tensorflow.keras.applications import VGG16\n",
        "from tensorflow.keras.layers import Dense, Flatten, Dropout\n",
        "from tensorflow.keras.models import Model\n",
        "\n",
        "# Load pre-trained VGG16 model\n",
        "base_model = VGG16(weights='imagenet', include_top=False, input_shape=(image_height, image_width, 224))\n",
        "\n",
        "# Freeze the convolutional base\n",
        "base_model.trainable = False\n",
        "\n",
        "# Add custom classifier on top\n",
        "x = Flatten()(base_model.output)\n",
        "x = Dense(224, activation='relu')(x)\n",
        "x = Dropout(0.5)(x)\n",
        "output = Dense(224, activation='softmax')(x)\n",
        "\n",
        "# Compile the model\n",
        "model = Model(base_model.input, output)\n",
        "model.compile(optimizer='adam', loss='sparse_categorical_crossentropy', metrics=['accuracy'])\n",
        "\n",
        "# Train the model\n",
        "history_pretrained = model.fit(train_generator, epochs=10, validation_data=val_generator)\n",
        "\n",
        "# Evaluate the model on test set\n",
        "test_loss_pretrained, test_acc_pretrained = model.evaluate(test_generator)\n",
        "print('Test accuracy with pre-trained network:', test_acc_pretrained)"
      ],
      "metadata": {
        "id": "jvGUbMHbRF09"
      },
      "execution_count": null,
      "outputs": []
    },
    {
      "cell_type": "code",
      "source": [],
      "metadata": {
        "id": "xZGtWfzgSaO4"
      },
      "execution_count": null,
      "outputs": []
    }
  ]
}